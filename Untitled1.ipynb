{
 "cells": [
  {
   "cell_type": "code",
   "execution_count": 1,
   "metadata": {},
   "outputs": [
    {
     "name": "stdout",
     "output_type": "stream",
     "text": [
      "       Patient Number State Patient Number Date Announced  \\\n",
      "0                   1             KL-TS-P1     30/01/2020   \n",
      "1                   2             KL-AL-P1     02/02/2020   \n",
      "2                   3             KL-KS-P1     03/02/2020   \n",
      "3                   4                DL-P1     02/03/2020   \n",
      "4                   5                TS-P1     02/03/2020   \n",
      "...               ...                  ...            ...   \n",
      "17301           17301                  NaN     19/04/2020   \n",
      "17302           17302                  NaN     19/04/2020   \n",
      "17303           17303                  NaN     19/04/2020   \n",
      "17304           17304                  NaN     19/04/2020   \n",
      "17305           17305                  NaN     19/04/2020   \n",
      "\n",
      "       Estimated Onset Date Age Bracket Gender             Detected City  \\\n",
      "0                       NaN          20      F                  Thrissur   \n",
      "1                       NaN         NaN    NaN                 Alappuzha   \n",
      "2                       NaN         NaN    NaN                 Kasaragod   \n",
      "3                       NaN          45      M  East Delhi (Mayur Vihar)   \n",
      "4                       NaN          24      M                 Hyderabad   \n",
      "...                     ...         ...    ...                       ...   \n",
      "17301                   NaN         NaN    NaN                       NaN   \n",
      "17302                   NaN         NaN    NaN                       NaN   \n",
      "17303                   NaN          30      M                       NaN   \n",
      "17304                   NaN          36      M                       NaN   \n",
      "17305                   NaN          52      M                       NaN   \n",
      "\n",
      "      Detected District     Detected State State code Current Status  \\\n",
      "0              Thrissur             Kerala         KL      Recovered   \n",
      "1             Alappuzha             Kerala         KL      Recovered   \n",
      "2             Kasaragod             Kerala         KL      Recovered   \n",
      "3            East Delhi              Delhi         DL      Recovered   \n",
      "4             Hyderabad          Telangana         TG      Recovered   \n",
      "...                 ...                ...        ...            ...   \n",
      "17301         Bandipora  Jammu and Kashmir         JK   Hospitalized   \n",
      "17302         Baramulla  Jammu and Kashmir         JK   Hospitalized   \n",
      "17303            Munger              Bihar         BR   Hospitalized   \n",
      "17304            Munger              Bihar         BR   Hospitalized   \n",
      "17305            Munger              Bihar         BR   Hospitalized   \n",
      "\n",
      "                                                   Notes  \\\n",
      "0                                   Travelled from Wuhan   \n",
      "1                                   Travelled from Wuhan   \n",
      "2                                   Travelled from Wuhan   \n",
      "3                          Travelled from Austria, Italy   \n",
      "4      Travelled from Dubai to Bangalore on 20th Feb,...   \n",
      "...                                                  ...   \n",
      "17301                                    Details awaited   \n",
      "17302                                    Details awaited   \n",
      "17303                                    Details awaited   \n",
      "17304                                    Details awaited   \n",
      "17305                                    Details awaited   \n",
      "\n",
      "      Contracted from which Patient (Suspected) Nationality  \\\n",
      "0                                           NaN       India   \n",
      "1                                           NaN       India   \n",
      "2                                           NaN       India   \n",
      "3                                           NaN       India   \n",
      "4                                           NaN       India   \n",
      "...                                         ...         ...   \n",
      "17301                                       NaN         NaN   \n",
      "17302                                       NaN         NaN   \n",
      "17303                                       NaN         NaN   \n",
      "17304                                       NaN         NaN   \n",
      "17305                                       NaN         NaN   \n",
      "\n",
      "      Type of transmission Status Change Date  \\\n",
      "0                 Imported         14/02/2020   \n",
      "1                 Imported         14/02/2020   \n",
      "2                 Imported         14/02/2020   \n",
      "3                 Imported         15/03/2020   \n",
      "4                 Imported         02/03/2020   \n",
      "...                    ...                ...   \n",
      "17301                  NaN         19/04/2020   \n",
      "17302                  NaN         19/04/2020   \n",
      "17303                  NaN         19/04/2020   \n",
      "17304                  NaN         19/04/2020   \n",
      "17305                  NaN         19/04/2020   \n",
      "\n",
      "                                                Source_1  \\\n",
      "0      https://twitter.com/vijayanpinarayi/status/122...   \n",
      "1      https://www.indiatoday.in/india/story/kerala-r...   \n",
      "2      https://www.indiatoday.in/india/story/kerala-n...   \n",
      "3      https://www.indiatoday.in/india/story/not-a-ja...   \n",
      "4      https://www.deccanherald.com/national/south/qu...   \n",
      "...                                                  ...   \n",
      "17301  https://twitter.com/kansalrohit69/status/12519...   \n",
      "17302  https://twitter.com/kansalrohit69/status/12519...   \n",
      "17303  https://twitter.com/sanjayjavin/status/1251938...   \n",
      "17304  https://twitter.com/sanjayjavin/status/1251938...   \n",
      "17305  https://twitter.com/sanjayjavin/status/1251938...   \n",
      "\n",
      "                                                Source_2  \\\n",
      "0      https://weather.com/en-IN/india/news/news/2020...   \n",
      "1      https://weather.com/en-IN/india/news/news/2020...   \n",
      "2      https://twitter.com/ANI/status/122422148580539...   \n",
      "3      https://economictimes.indiatimes.com/news/poli...   \n",
      "4      https://www.indiatoday.in/india/story/coronavi...   \n",
      "...                                                  ...   \n",
      "17301                                                NaN   \n",
      "17302                                                NaN   \n",
      "17303                                                NaN   \n",
      "17304                                                NaN   \n",
      "17305                                                NaN   \n",
      "\n",
      "                                                Source_3  \\\n",
      "0                                                    NaN   \n",
      "1                                                    NaN   \n",
      "2      https://weather.com/en-IN/india/news/news/2020...   \n",
      "3                                                    NaN   \n",
      "4      https://www.thehindu.com/news/national/coronav...   \n",
      "...                                                  ...   \n",
      "17301                                                NaN   \n",
      "17302                                                NaN   \n",
      "17303                                                NaN   \n",
      "17304                                                NaN   \n",
      "17305                                                NaN   \n",
      "\n",
      "                                     Backup Notes  \n",
      "0                              Student from Wuhan  \n",
      "1                              Student from Wuhan  \n",
      "2                              Student from Wuhan  \n",
      "3             Travel history to Italy and Austria  \n",
      "4      Travel history to Dubai, Singapore contact  \n",
      "...                                           ...  \n",
      "17301                                         NaN  \n",
      "17302                                         NaN  \n",
      "17303                                         NaN  \n",
      "17304                                         NaN  \n",
      "17305                                         NaN  \n",
      "\n",
      "[17306 rows x 20 columns]\n"
     ]
    }
   ],
   "source": [
    "import pandas as pd\n",
    "\n",
    "df = pd.read_csv (\"/Users/anushika/Desktop/COLLEGE/midsem/raw_data1.csv\")\n",
    "\n",
    "print (df)"
   ]
  },
  {
   "cell_type": "code",
   "execution_count": 50,
   "metadata": {},
   "outputs": [
    {
     "name": "stdout",
     "output_type": "stream",
     "text": [
      "ParseResult(scheme='https', netloc='twitter.com', path='/ANI/status/1238482416936701953', params='', query='', fragment='')\n"
     ]
    }
   ],
   "source": [
    "from urllib.parse import urlparse\n",
    "# from urlparse import urlparse  # Python 2\n",
    "parsed_uri = urlparse('https://twitter.com/ANI/status/1238482416936701953' )\n",
    "result = '{uri.netloc}'.format(uri=parsed_uri)\n",
    "print(parsed_uri)\n",
    "\n"
   ]
  },
  {
   "cell_type": "code",
   "execution_count": 5,
   "metadata": {},
   "outputs": [
    {
     "name": "stdout",
     "output_type": "stream",
     "text": [
      "{'twitter.com': 14130, 'www.indiatoday.in': 68, 'www.deccanherald.com': 7, 'indianexpress.com': 38, 'www.businesstoday.in': 6, 'www.hindustantimes.com': 10, 'timesofindia.indiatimes.com': 19, 'www.firstpost.com': 3, 'www.livemint.com': 13, 'english.mathrubhumi.com': 11, 'www.facebook.com': 9, 'www.thehindu.com': 18, 'www.newindianexpress.com': 6, 'health.delhigovt.nic.in': 2, 'english.manoramaonline.com': 23, 'www.ndtv.com': 7, 'www.indiatvnews.com': 3, 'economictimes.indiatimes.com': 4, 'www.businessinsider.in': 1, 'mumbaimirror.indiatimes.com': 1, 'www.thenewsminute.com': 10, 'mobile.twitter.com': 15, '': 760, 'epaper.hindustantimes.com': 1, 'ahmedabadmirror.indiatimes.com': 2, 'arogya.maharashtra.gov.in': 54, 'www.youtube.com': 2, 'www.mohfw.gov.in': 88, 'www.jagran.com': 4, 'www.nhmharyana.gov.in': 190, 'm.hindustantimes.com': 1, 'www.babushahi.com': 1, 'kannada.asianetnews.com': 1, 'dbpost.com': 1, 'www.bhaskar.com': 2, 'www.amarujala.com': 4, 'dronamaps.com': 26, 'english.varthabharati.in': 2, 'www.manoramanews.com': 2, 'www.outlookindia.com': 2, 'stopcorona.tn.gov.in': 248, 'stopcoronatn.in': 2, 'gujcovid19.gujarat.gov.in': 497, 'karunadu.karnataka.gov.in': 10, 'www.wbhealth.gov.in': 7, 'www.ptinews.com': 4, 'www.business-standard.com': 3, 'hmfw.ap.gov.in': 17, 'covid19.telangana.gov.in': 5, 't.me': 893, 'www.rajswasthya.nic.in': 27, 'www.jipmer.edu.in': 2, 'dhs.kerala.gov.in': 26, 'covid.ladakh.gov.in': 1, 'chdcovid19.in': 8, 'health.odisha.gov.in': 3, 'www.cghealth.nic.in': 6}\n"
     ]
    }
   ],
   "source": [
    "dct={}\n",
    "for index, row in df.iterrows():\n",
    "    parsed_uri = urlparse(str(row['Source_1']))\n",
    "    key='{uri.netloc}'.format(uri=parsed_uri)\n",
    "    if key in dct: \n",
    "        dct[key]+=1\n",
    "    else:\n",
    "        dct.update({key :1}) \n",
    "\n",
    "print(dct)"
   ]
  },
  {
   "cell_type": "code",
   "execution_count": 6,
   "metadata": {
    "scrolled": false
   },
   "outputs": [
    {
     "name": "stdout",
     "output_type": "stream",
     "text": [
      "{'twitter.com': 16249, 'www.indiatoday.in': 104, 'www.deccanherald.com': 20, 'indianexpress.com': 47, 'www.businesstoday.in': 6, 'www.hindustantimes.com': 29, 'timesofindia.indiatimes.com': 54, 'www.firstpost.com': 5, 'www.livemint.com': 36, 'english.mathrubhumi.com': 11, 'www.facebook.com': 167, 'www.thehindu.com': 65, 'www.newindianexpress.com': 17, 'health.delhigovt.nic.in': 3, 'english.manoramaonline.com': 32, 'www.ndtv.com': 14, 'www.indiatvnews.com': 3, 'economictimes.indiatimes.com': 35, 'www.businessinsider.in': 4, 'mumbaimirror.indiatimes.com': 3, 'www.thenewsminute.com': 25, 'mobile.twitter.com': 15, '': 14707, 'epaper.hindustantimes.com': 2, 'ahmedabadmirror.indiatimes.com': 6, 'arogya.maharashtra.gov.in': 142, 'www.youtube.com': 2, 'www.mohfw.gov.in': 88, 'www.jagran.com': 4, 'www.nhmharyana.gov.in': 208, 'm.hindustantimes.com': 1, 'www.babushahi.com': 1, 'kannada.asianetnews.com': 1, 'dbpost.com': 7, 'www.bhaskar.com': 4, 'www.amarujala.com': 6, 'dronamaps.com': 30, 'english.varthabharati.in': 2, 'www.manoramanews.com': 2, 'www.outlookindia.com': 25, 'stopcorona.tn.gov.in': 250, 'stopcoronatn.in': 2, 'gujcovid19.gujarat.gov.in': 566, 'karunadu.karnataka.gov.in': 11, 'www.wbhealth.gov.in': 7, 'www.ptinews.com': 4, 'www.business-standard.com': 3, 'hmfw.ap.gov.in': 17, 'covid19.telangana.gov.in': 5, 't.me': 1284, 'www.rajswasthya.nic.in': 27, 'www.jipmer.edu.in': 2, 'dhs.kerala.gov.in': 72, 'covid.ladakh.gov.in': 1, 'chdcovid19.in': 8, 'health.odisha.gov.in': 7, 'www.cghealth.nic.in': 6, 'weather.com': 2, 'www.google.com': 5, 'punjabupdate.com': 8, 'www.theweek.in': 3, 'newsonair.com': 1, 'drive.google.com': 1, 'www.latestly.com': 1, 'kalingatv.com': 1, 'in.news.yahoo.com': 6, 'www.news18.com': 3, 'theprint.in': 2, 'www.naidunia.com': 4, 'pbs.twimg.com': 1, 'www.manoramaonline.com': 13, 'www.oneindia.com': 1, 'punemirror.indiatimes.com': 6, 'www.indiatv.in': 2, 'www.patrika.com': 4, 'www.thekashmirmonitor.net': 2, 'm.economictimes.com': 1, 'www.gujaratsamachar.com': 7, 'www.financialexpress.com': 2, 'thewire.in': 5, 'khabar.ndtv.com': 5, 'www.tribuneindia.com': 2, 'www.kannadaprabha.com': 1, 'experience.arcgis.com': 63, 'collectorate.py.gov.in': 2, 'www.nrhmhp.gov.in': 4}\n"
     ]
    }
   ],
   "source": [
    "for index, row in df.iterrows():\n",
    "    parsed_uri = urlparse(str(row['Source_2']))\n",
    "    key='{uri.netloc}'.format(uri=parsed_uri)\n",
    "    if key in dct: \n",
    "        dct[key]+=1\n",
    "    else:\n",
    "        dct.update({key :1}) \n",
    "\n",
    "print(dct)"
   ]
  },
  {
   "cell_type": "code",
   "execution_count": 21,
   "metadata": {},
   "outputs": [
    {
     "name": "stdout",
     "output_type": "stream",
     "text": [
      "{'twitter.com': 16797, 'www.indiatoday.in': 106, 'www.deccanherald.com': 30, 'indianexpress.com': 57, 'www.businesstoday.in': 6, 'www.hindustantimes.com': 35, 'timesofindia.indiatimes.com': 62, 'www.firstpost.com': 5, 'www.livemint.com': 36, 'english.mathrubhumi.com': 11, 'www.facebook.com': 271, 'www.thehindu.com': 95, 'www.newindianexpress.com': 17, 'health.delhigovt.nic.in': 5, 'english.manoramaonline.com': 42, 'www.ndtv.com': 14, 'www.indiatvnews.com': 9, 'economictimes.indiatimes.com': 45, 'www.businessinsider.in': 4, 'mumbaimirror.indiatimes.com': 3, 'www.thenewsminute.com': 25, 'mobile.twitter.com': 15, '': 48435, 'epaper.hindustantimes.com': 2, 'ahmedabadmirror.indiatimes.com': 10, 'arogya.maharashtra.gov.in': 142, 'www.youtube.com': 2, 'www.mohfw.gov.in': 88, 'www.jagran.com': 10, 'www.nhmharyana.gov.in': 208, 'm.hindustantimes.com': 9, 'www.babushahi.com': 1, 'kannada.asianetnews.com': 1, 'dbpost.com': 7, 'www.bhaskar.com': 4, 'www.amarujala.com': 6, 'dronamaps.com': 30, 'english.varthabharati.in': 2, 'www.manoramanews.com': 2, 'www.outlookindia.com': 29, 'stopcorona.tn.gov.in': 250, 'stopcoronatn.in': 2, 'gujcovid19.gujarat.gov.in': 582, 'karunadu.karnataka.gov.in': 11, 'www.wbhealth.gov.in': 7, 'www.ptinews.com': 4, 'www.business-standard.com': 3, 'hmfw.ap.gov.in': 17, 'covid19.telangana.gov.in': 5, 't.me': 1284, 'www.rajswasthya.nic.in': 27, 'www.jipmer.edu.in': 2, 'dhs.kerala.gov.in': 94, 'covid.ladakh.gov.in': 1, 'chdcovid19.in': 8, 'health.odisha.gov.in': 7, 'www.cghealth.nic.in': 6, 'weather.com': 4, 'www.google.com': 5, 'punjabupdate.com': 26, 'www.theweek.in': 5, 'newsonair.com': 1, 'drive.google.com': 1, 'www.latestly.com': 1, 'kalingatv.com': 1, 'in.news.yahoo.com': 6, 'www.news18.com': 5, 'theprint.in': 2, 'www.naidunia.com': 4, 'pbs.twimg.com': 1, 'www.manoramaonline.com': 47, 'www.oneindia.com': 1, 'punemirror.indiatimes.com': 6, 'www.indiatv.in': 2, 'www.patrika.com': 4, 'www.thekashmirmonitor.net': 2, 'm.economictimes.com': 1, 'www.gujaratsamachar.com': 7, 'www.financialexpress.com': 2, 'thewire.in': 5, 'khabar.ndtv.com': 5, 'www.tribuneindia.com': 4, 'www.kannadaprabha.com': 1, 'experience.arcgis.com': 63, 'collectorate.py.gov.in': 2, 'www.nrhmhp.gov.in': 4, 'www.mathrubhumi.com': 4, 'docs.google.com': 4, 'thepigeonexpress.com': 2, 'english.jagran.com': 2, 'prd.kerala.gov.in': 6}\n"
     ]
    }
   ],
   "source": [
    "for index, row in df.iterrows():\n",
    "    parsed_uri = urlparse(str(row['Source_3']))\n",
    "    key='{uri.netloc}'.format(uri=parsed_uri)\n",
    "    if key in dct: \n",
    "        dct[key]+=1\n",
    "    else:\n",
    "        dct.update({key :1}) \n",
    "\n",
    "print(dct)"
   ]
  },
  {
   "cell_type": "code",
   "execution_count": 90,
   "metadata": {},
   "outputs": [],
   "source": [
    "# vals=list(dct.values())\n",
    "# ks=list(dct.keys())\n",
    "\n",
    "# print (\"lkndcv\"+ks[22]+\"sdklnc\")\n",
    "# print (vals[22])\n",
    "# for i in ks:\n",
    "#     if i == \"\":\n",
    "#         print (\"sdcknlsd\")\n",
    "    \n",
    "del dct['']"
   ]
  },
  {
   "cell_type": "code",
   "execution_count": 92,
   "metadata": {
    "scrolled": false
   },
   "outputs": [
    {
     "name": "stdout",
     "output_type": "stream",
     "text": [
      "90\n"
     ]
    },
    {
     "data": {
      "image/png": "[encoded data removed]",
      "text/plain": [
       "<Figure size 432x288 with 1 Axes>"
      ]
     },
     "metadata": {
      "needs_background": "light"
     },
     "output_type": "display_data"
    },
    {
     "data": {
      "image/png": "[encoded data removed]",
      "text/plain": [
       "<Figure size 432x288 with 1 Axes>"
      ]
     },
     "metadata": {
      "needs_background": "light"
     },
     "output_type": "display_data"
    },
    {
     "data": {
      "image/png": "[encoded data removed]",
      "text/plain": [
       "<Figure size 432x288 with 1 Axes>"
      ]
     },
     "metadata": {
      "needs_background": "light"
     },
     "output_type": "display_data"
    },
    {
     "data": {
      "image/png": "[encoded data removed]",
      "text/plain": [
       "<Figure size 432x288 with 1 Axes>"
      ]
     },
     "metadata": {
      "needs_background": "light"
     },
     "output_type": "display_data"
    },
    {
     "data": {
      "image/png": "[encoded data removed]",
      "text/plain": [
       "<Figure size 432x288 with 1 Axes>"
      ]
     },
     "metadata": {
      "needs_background": "light"
     },
     "output_type": "display_data"
    },
    {
     "data": {
      "image/png": "[encoded data removed]",
      "text/plain": [
       "<Figure size 432x288 with 1 Axes>"
      ]
     },
     "metadata": {
      "needs_background": "light"
     },
     "output_type": "display_data"
    },
    {
     "data": {
      "image/png": "[encoded data removed]",
      "text/plain": [
       "<Figure size 432x288 with 1 Axes>"
      ]
     },
     "metadata": {
      "needs_background": "light"
     },
     "output_type": "display_data"
    },
    {
     "data": {
      "image/png": "[encoded data removed]",
      "text/plain": [
       "<Figure size 432x288 with 1 Axes>"
      ]
     },
     "metadata": {
      "needs_background": "light"
     },
     "output_type": "display_data"
    },
    {
     "data": {
      "image/png": "[encoded data removed]",
      "text/plain": [
       "<Figure size 432x288 with 1 Axes>"
      ]
     },
     "metadata": {
      "needs_background": "light"
     },
     "output_type": "display_data"
    }
   ],
   "source": [
    "import matplotlib.pyplot as plt\n",
    "import numpy as np\n",
    "\n",
    "# list = list(dct.items()) \n",
    "\n",
    "\n",
    "# ax = fig.add_axes([0,0,1,1])\n",
    "# names = list[0]\n",
    "# count = list[1]\n",
    "# ax.bar(count,names)\n",
    "\n",
    "# data_items = dct.items()\n",
    "# D = list(data_items)\n",
    "\n",
    "\n",
    "#print (type(dct.values()))\n",
    "vals=list(dct.values())\n",
    "ks=list(dct.keys())\n",
    "\n",
    "#D = pd.DataFrame(data_list) \n",
    "\n",
    "#print (vals)\n",
    "#print (ks)\n",
    "\n",
    "j=0\n",
    "i=10\n",
    "\n",
    "print (len(dct))\n",
    "\n",
    "while i < (len(dct)):\n",
    "    fig = plt.figure()\n",
    "    plt.barh(range(j,i), vals[j:i], align='center')\n",
    "    plt.yticks(range(j,i), ks[j:i])\n",
    "    plt.show()\n",
    "    j+=10\n",
    "    i+=10\n",
    "\n",
    "\n",
    "fig = plt.figure()\n",
    "i=len(dct)\n",
    "plt.barh(range(j,i), vals[j:i], align='center')\n",
    "plt.yticks(range(j,i), ks[j:i])\n",
    "plt.show()"
   ]
  },
  {
   "cell_type": "code",
   "execution_count": 69,
   "metadata": {},
   "outputs": [
    {
     "name": "stdout",
     "output_type": "stream",
     "text": [
      "885\n"
     ]
    }
   ],
   "source": [
    "tweet_ids={}\n",
    "for index, row in df.iterrows():\n",
    "    parsed_uri = urlparse(str(row['Source_1']))\n",
    "    st='{uri.path}'.format(uri=parsed_uri)\n",
    "    #print(\"{uri.netloc}\")\n",
    "    if (\"{uri.netloc}\".format(uri=parsed_uri) == \"twitter.com\"):\n",
    "        ind= st.rfind('/')\n",
    "        tid=st[(ind+1):]\n",
    "        if tid in tweet_ids: \n",
    "            tweet_ids[tid]+=1\n",
    "        else:\n",
    "            tweet_ids.update({tid :1})\n",
    "\n",
    "for index, row in df.iterrows():\n",
    "    parsed_uri = urlparse(str(row['Source_2']))\n",
    "    st='{uri.path}'.format(uri=parsed_uri)\n",
    "    #print(\"{uri.netloc}\")\n",
    "    if (\"{uri.netloc}\".format(uri=parsed_uri) == \"twitter.com\"):\n",
    "        ind= st.rfind('/')\n",
    "        tid=st[(ind+1):]\n",
    "        if tid in tweet_ids: \n",
    "            tweet_ids[tid]+=1\n",
    "        else:\n",
    "            tweet_ids.update({tid :1})\n",
    "\n",
    "for index, row in df.iterrows():\n",
    "    parsed_uri = urlparse(str(row['Source_3']))\n",
    "    st='{uri.path}'.format(uri=parsed_uri)\n",
    "    #print(\"{uri.netloc}\")\n",
    "    if (\"{uri.netloc}\".format(uri=parsed_uri) == \"twitter.com\"):\n",
    "        ind= st.rfind('/')\n",
    "        tid=st[(ind+1):]\n",
    "        if tid in tweet_ids: \n",
    "            tweet_ids[tid]+=1\n",
    "        else:\n",
    "            tweet_ids.update({tid :1})\n",
    "        \n",
    "print(len(tweet_ids))"
   ]
  },
  {
   "cell_type": "code",
   "execution_count": 72,
   "metadata": {},
   "outputs": [
    {
     "name": "stdout",
     "output_type": "stream",
     "text": [
      "885\n"
     ]
    }
   ],
   "source": [
    "list_tweet_ids = list(tweet_ids.keys())\n",
    "print (len(list_tweet_ids))"
   ]
  },
  {
   "cell_type": "code",
   "execution_count": 73,
   "metadata": {},
   "outputs": [
    {
     "name": "stdout",
     "output_type": "stream",
     "text": [
      "[{'code': 8, 'message': 'No data available for specified ID.'}]\n",
      "[{'code': 144, 'message': 'No status found with that ID.'}]\n",
      "[{'code': 144, 'message': 'No status found with that ID.'}]\n",
      "[{'code': 144, 'message': 'No status found with that ID.'}]\n",
      "[{'code': 144, 'message': 'No status found with that ID.'}]\n",
      "[{'code': 144, 'message': 'No status found with that ID.'}]\n",
      "[{'code': 144, 'message': 'No status found with that ID.'}]\n",
      "[{'code': 144, 'message': 'No status found with that ID.'}]\n",
      "[{'code': 144, 'message': 'No status found with that ID.'}]\n",
      "[{'code': 144, 'message': 'No status found with that ID.'}]\n",
      "[{'code': 144, 'message': 'No status found with that ID.'}]\n",
      "[{'code': 144, 'message': 'No status found with that ID.'}]\n",
      "[{'code': 144, 'message': 'No status found with that ID.'}]\n",
      "[{'code': 8, 'message': 'No data available for specified ID.'}]\n",
      "[{'code': 144, 'message': 'No status found with that ID.'}]\n",
      "[{'code': 144, 'message': 'No status found with that ID.'}]\n",
      "[{'code': 8, 'message': 'No data available for specified ID.'}]\n",
      "[{'code': 144, 'message': 'No status found with that ID.'}]\n",
      " tweets downloaded867\n"
     ]
    }
   ],
   "source": [
    "import tweepy\n",
    "import sys\n",
    "import jsonpickle\n",
    "import json\n",
    "import os\n",
    "import io\n",
    "import nltk\n",
    "import re\n",
    "import numpy as np\n",
    "import matplotlib.pyplot as plt\n",
    "from collections import Counter\n",
    "from pymongo import MongoClient\n",
    "from nltk.corpus import stopwords\n",
    "from nltk.tokenize import word_tokenize\n",
    "\n",
    "ckey ='xxx'\n",
    "csecret = 'xxx'\n",
    "atoken = 'xxx'\n",
    "asecret ='xxx'\n",
    "\n",
    "auth = tweepy.OAuthHandler('dsLukQtNEhzcFYie5NvBPcqxX', \n",
    "                           'qNCeHiRgui6tVAeJSF5TtlTd3OeRsXrRzpDRBooDgXFPJcBDg9')\n",
    "# Access Token, Access Token Secret\n",
    "auth.set_access_token('1675364389-gFqP4bQXw6KwlGJDtpAh8TiiG7yTpEgLcWXH443', \n",
    "                      '4QDNoYu9ff945TF3MGLijghUhJOrUGgue9FnyQA37cHwc')\n",
    "\n",
    "api = tweepy.API(auth)\n",
    "client = MongoClient('localhost', 27017)\n",
    "db = client['twitter']\n",
    "collection = db['Police']\n",
    "\n",
    "# @Delhi Police OR @CP Delhi OR @dtptraffi OR @LtGovDelhi OR @DCPNewDelhi OR paschim vihar OR Punjabi bagh until:2020-02-01 since:2015-12-21\n",
    "\n",
    "hashtag = \"@DelhiPolice OR @CPDelhi OR @dtptraffi OR @LtGovDelhi OR @DCPNewDelhi pritampura\"\n",
    "maxtweet = 1000\n",
    "tweet_per_run = 100\n",
    "file_name = \"/Users/anushika/Desktop/COLLEGE/midsem/tweets.json\"\n",
    "latitude = 28.6773 \n",
    "longitude = 77.1123\n",
    "radii = 3\n",
    "\n",
    "sinceID = None #default\n",
    "maxID = -5 #Long int\n",
    "\n",
    "count = 0\n",
    "# this code does not work with the extraction of data prior to the 7 day limit thus,\n",
    "# I have used ScrapeStorm to scrape the twitter pages\n",
    "\n",
    "# tweet = api.get_status(tweet_ids[0])\n",
    "# print (tweet)\n",
    "\n",
    "f = open(\"/Users/anushika/Desktop/COLLEGE/midsem/new.json\",'w')\n",
    "\n",
    "with open (file_name , 'w') as file:\n",
    "    for id_of_tweet in list_tweet_ids :\n",
    "        try :\n",
    "            tweet = api.get_status(id_of_tweet)\n",
    "            file.write(jsonpickle.encode(tweet._json, unpicklable=False) + '\\n')\n",
    "            # tweet2 = json.loads(tweet)\n",
    "            collection.insert_one(tweet._json)\n",
    "            count+=1\n",
    "        except tweepy.TweepError as error:\n",
    "            print (str(error))\n",
    "            continue\n",
    "print (\" tweets downloaded\" + str(count))\n",
    "file.close()\n",
    "f.close()"
   ]
  },
  {
   "cell_type": "code",
   "execution_count": 93,
   "metadata": {},
   "outputs": [
    {
     "name": "stdout",
     "output_type": "stream",
     "text": [
      "867\n"
     ]
    }
   ],
   "source": [
    "print (count)\n"
   ]
  },
  {
   "cell_type": "code",
   "execution_count": 100,
   "metadata": {},
   "outputs": [],
   "source": [
    "from pandas.io.json import json_normalize\n",
    "\n",
    "twtdf = pd.read_json(\"/Users/anushika/Desktop/COLLEGE/midsem/tweets.json\", orient = 'records', lines = True)\n"
   ]
  },
  {
   "cell_type": "code",
   "execution_count": 101,
   "metadata": {},
   "outputs": [
    {
     "name": "stdout",
     "output_type": "stream",
     "text": [
      "     contributors  coordinates                created_at  \\\n",
      "0             NaN          NaN 2020-01-30 09:50:54+00:00   \n",
      "1             NaN          NaN 2020-03-13 15:09:52+00:00   \n",
      "2             NaN          NaN 2020-03-14 17:39:56+00:00   \n",
      "3             NaN          NaN 2020-03-15 13:36:47+00:00   \n",
      "4             NaN          NaN 2020-03-15 08:02:33+00:00   \n",
      "..            ...          ...                       ...   \n",
      "862           NaN          NaN 2020-04-04 07:19:53+00:00   \n",
      "863           NaN          NaN 2020-04-07 07:45:04+00:00   \n",
      "864           NaN          NaN 2020-04-07 06:55:04+00:00   \n",
      "865           NaN          NaN 2020-04-12 12:38:35+00:00   \n",
      "866           NaN          NaN 2020-04-16 15:49:35+00:00   \n",
      "\n",
      "                                              entities  favorite_count  \\\n",
      "0    {'hashtags': [{'indices': [10, 22], 'text': 'C...            2037   \n",
      "1    {'hashtags': [{'indices': [75, 87], 'text': 'C...             297   \n",
      "2    {'hashtags': [], 'symbols': [], 'urls': [{'dis...            1482   \n",
      "3    {'hashtags': [{'indices': [45, 54], 'text': 'C...             283   \n",
      "4    {'hashtags': [{'indices': [75, 87], 'text': 'C...             100   \n",
      "..                                                 ...             ...   \n",
      "862  {'hashtags': [], 'symbols': [], 'urls': [], 'u...             680   \n",
      "863  {'hashtags': [], 'symbols': [], 'urls': [], 'u...               1   \n",
      "864  {'hashtags': [], 'symbols': [], 'urls': [{'dis...              44   \n",
      "865  {'hashtags': [{'indices': [13, 21], 'text': 'C...             339   \n",
      "866  {'hashtags': [], 'symbols': [], 'urls': [{'dis...             162   \n",
      "\n",
      "     favorited  geo                   id               id_str  \\\n",
      "0        False  NaN  1222819465143832577  1222819465143832576   \n",
      "1        False  NaN  1238482416936701953  1238482416936701952   \n",
      "2        False  NaN  1238882567987662855  1238882567987662848   \n",
      "3        False  NaN  1239183764946731008  1239183764946731008   \n",
      "4        False  NaN  1239099655780065282  1239099655780065280   \n",
      "..         ...  ...                  ...                  ...   \n",
      "862      False  NaN  1246336675732533248  1246336675732533248   \n",
      "863      False  NaN  1247430173927993345  1247430173927993344   \n",
      "864      False  NaN  1247417593968742400  1247417593968742400   \n",
      "865      False  NaN  1249315979445727234  1249315979445727232   \n",
      "866      False  NaN  1250813598651174913  1250813598651174912   \n",
      "\n",
      "    in_reply_to_screen_name  ...  \\\n",
      "0                      None  ...   \n",
      "1                      None  ...   \n",
      "2                      None  ...   \n",
      "3                      None  ...   \n",
      "4                      None  ...   \n",
      "..                      ...  ...   \n",
      "862                    None  ...   \n",
      "863             bansalmanav  ...   \n",
      "864                    None  ...   \n",
      "865                    None  ...   \n",
      "866                    None  ...   \n",
      "\n",
      "                                                source  \\\n",
      "0    <a href=\"http://twitter.com/download/android\" ...   \n",
      "1    <a href=\"https://mobile.twitter.com\" rel=\"nofo...   \n",
      "2    <a href=\"https://mobile.twitter.com\" rel=\"nofo...   \n",
      "3    <a href=\"https://mobile.twitter.com\" rel=\"nofo...   \n",
      "4    <a href=\"https://mobile.twitter.com\" rel=\"nofo...   \n",
      "..                                                 ...   \n",
      "862  <a href=\"http://www.ptinews.com\" rel=\"nofollow...   \n",
      "863  <a href=\"https://mobile.twitter.com\" rel=\"nofo...   \n",
      "864  <a href=\"https://mobile.twitter.com\" rel=\"nofo...   \n",
      "865  <a href=\"https://mobile.twitter.com\" rel=\"nofo...   \n",
      "866  <a href=\"https://mobile.twitter.com\" rel=\"nofo...   \n",
      "\n",
      "                                                  text  truncated  \\\n",
      "0    Update on #Coronavirus incident: A patient has...       True   \n",
      "1    Jammu &amp; Kashmir NHM Director Bhupinder Kum...       True   \n",
      "2    Public Health Department, Maharashtra: 5 more ...       True   \n",
      "3    Kerala Health Minister KK Shailaja: Two more #...       True   \n",
      "4    Maharashtra Health Department: A 59-year-old w...       True   \n",
      "..                                                 ...        ...   \n",
      "862  With 47 new coronavirus positive cases in Maha...      False   \n",
      "863  @bansalmanav No. Some workers in his small-tim...      False   \n",
      "864  MOGA-- One tests Positive\\n\\nA Muslim man, 35 ...       True   \n",
      "865  Two positive #COVID19 cases have been reported...       True   \n",
      "866  Out of the 7 deaths today, 5 were men and 2 we...       True   \n",
      "\n",
      "                                                  user  possibly_sensitive  \\\n",
      "0    {'contributors_enabled': False, 'created_at': ...                 NaN   \n",
      "1    {'contributors_enabled': False, 'created_at': ...                 0.0   \n",
      "2    {'contributors_enabled': False, 'created_at': ...                 NaN   \n",
      "3    {'contributors_enabled': False, 'created_at': ...                 0.0   \n",
      "4    {'contributors_enabled': False, 'created_at': ...                 0.0   \n",
      "..                                                 ...                 ...   \n",
      "862  {'contributors_enabled': False, 'created_at': ...                 NaN   \n",
      "863  {'contributors_enabled': False, 'created_at': ...                 NaN   \n",
      "864  {'contributors_enabled': False, 'created_at': ...                 NaN   \n",
      "865  {'contributors_enabled': False, 'created_at': ...                 NaN   \n",
      "866  {'contributors_enabled': False, 'created_at': ...                 0.0   \n",
      "\n",
      "    possibly_sensitive_appealable  \\\n",
      "0                             NaN   \n",
      "1                             0.0   \n",
      "2                             NaN   \n",
      "3                             0.0   \n",
      "4                             0.0   \n",
      "..                            ...   \n",
      "862                           NaN   \n",
      "863                           NaN   \n",
      "864                           NaN   \n",
      "865                           NaN   \n",
      "866                           0.0   \n",
      "\n",
      "                                         quoted_status  quoted_status_id  \\\n",
      "0                                                  NaN               NaN   \n",
      "1                                                  NaN               NaN   \n",
      "2                                                  NaN               NaN   \n",
      "3                                                  NaN               NaN   \n",
      "4                                                  NaN               NaN   \n",
      "..                                                 ...               ...   \n",
      "862                                                NaN               NaN   \n",
      "863                                                NaN               NaN   \n",
      "864                                                NaN               NaN   \n",
      "865                                                NaN               NaN   \n",
      "866  {'contributors': None, 'coordinates': None, 'c...      1.250813e+18   \n",
      "\n",
      "     quoted_status_id_str extended_entities  \n",
      "0                     NaN               NaN  \n",
      "1                     NaN               NaN  \n",
      "2                     NaN               NaN  \n",
      "3                     NaN               NaN  \n",
      "4                     NaN               NaN  \n",
      "..                    ...               ...  \n",
      "862                   NaN               NaN  \n",
      "863                   NaN               NaN  \n",
      "864                   NaN               NaN  \n",
      "865                   NaN               NaN  \n",
      "866          1.250813e+18               NaN  \n",
      "\n",
      "[867 rows x 29 columns]\n"
     ]
    }
   ],
   "source": [
    "print(twtdf)"
   ]
  },
  {
   "cell_type": "code",
   "execution_count": 114,
   "metadata": {},
   "outputs": [
    {
     "name": "stdout",
     "output_type": "stream",
     "text": [
      "verified account=733\n",
      "non verified account=134\n"
     ]
    }
   ],
   "source": [
    "ver_ctr=0\n",
    "nver_ctr=0\n",
    "\n",
    "for index, row in twtdf.iterrows():\n",
    "    usr=row['user']\n",
    "    ver= usr['verified']\n",
    "    if (ver == True):\n",
    "        ver_ctr+=1\n",
    "    else: \n",
    "        nver_ctr+=1\n",
    "    \n",
    "print(\"verified account=\" + str(ver_ctr) )\n",
    "print(\"non verified account=\" + str(nver_ctr) )\n",
    "    \n",
    "    \n",
    "    "
   ]
  },
  {
   "cell_type": "code",
   "execution_count": 115,
   "metadata": {},
   "outputs": [
    {
     "name": "stdout",
     "output_type": "stream",
     "text": [
      "0     2020-01-30 09:50:54+00:00\n",
      "1     2020-03-13 15:09:52+00:00\n",
      "2     2020-03-14 17:39:56+00:00\n",
      "3     2020-03-15 13:36:47+00:00\n",
      "4     2020-03-15 08:02:33+00:00\n",
      "                 ...           \n",
      "862   2020-04-04 07:19:53+00:00\n",
      "863   2020-04-07 07:45:04+00:00\n",
      "864   2020-04-07 06:55:04+00:00\n",
      "865   2020-04-12 12:38:35+00:00\n",
      "866   2020-04-16 15:49:35+00:00\n",
      "Name: Date, Length: 867, dtype: datetime64[ns, UTC]\n"
     ]
    }
   ],
   "source": [
    "twtdf['Date'] =pd.to_datetime(twtdf.created_at)\n",
    "print(twtdf['Date'])\n",
    "\n"
   ]
  },
  {
   "cell_type": "code",
   "execution_count": 116,
   "metadata": {},
   "outputs": [
    {
     "name": "stdout",
     "output_type": "stream",
     "text": [
      "     contributors  coordinates                created_at  \\\n",
      "714           NaN          NaN 2020-04-19 18:19:19+00:00   \n",
      "713           NaN          NaN 2020-04-19 17:46:32+00:00   \n",
      "712           NaN          NaN 2020-04-19 16:49:33+00:00   \n",
      "851           NaN          NaN 2020-04-19 15:59:09+00:00   \n",
      "711           NaN          NaN 2020-04-19 15:18:01+00:00   \n",
      "..            ...          ...                       ...   \n",
      "4             NaN          NaN 2020-03-15 08:02:33+00:00   \n",
      "2             NaN          NaN 2020-03-14 17:39:56+00:00   \n",
      "1             NaN          NaN 2020-03-13 15:09:52+00:00   \n",
      "715           NaN          NaN 2020-02-03 06:42:01+00:00   \n",
      "0             NaN          NaN 2020-01-30 09:50:54+00:00   \n",
      "\n",
      "                                              entities  favorite_count  \\\n",
      "714  {'hashtags': [{'indices': [0, 18], 'text': 'Bi...             458   \n",
      "713  {'hashtags': [], 'symbols': [], 'urls': [], 'u...            3120   \n",
      "712  {'hashtags': [{'indices': [18, 26], 'text': 'C...             291   \n",
      "851  {'hashtags': [{'indices': [0, 8], 'text': 'COV...             293   \n",
      "711  {'hashtags': [{'indices': [11, 19], 'text': 'C...             339   \n",
      "..                                                 ...             ...   \n",
      "4    {'hashtags': [{'indices': [75, 87], 'text': 'C...             100   \n",
      "2    {'hashtags': [], 'symbols': [], 'urls': [{'dis...            1482   \n",
      "1    {'hashtags': [{'indices': [75, 87], 'text': 'C...             297   \n",
      "715  {'hashtags': [{'indices': [50, 62], 'text': 'c...             420   \n",
      "0    {'hashtags': [{'indices': [10, 22], 'text': 'C...            2037   \n",
      "\n",
      "     favorited  geo                   id               id_str  \\\n",
      "714      False  NaN  1251938442067361792  1251938442067361792   \n",
      "713      False  NaN  1251930194690048002  1251930194690048000   \n",
      "712      False  NaN  1251915853442007040  1251915853442007040   \n",
      "851      False  NaN  1251903167668850688  1251903167668850688   \n",
      "711      False  NaN  1251892819989598208  1251892819989598208   \n",
      "..         ...  ...                  ...                  ...   \n",
      "4        False  NaN  1239099655780065282  1239099655780065280   \n",
      "2        False  NaN  1238882567987662855  1238882567987662848   \n",
      "1        False  NaN  1238482416936701953  1238482416936701952   \n",
      "715      False  NaN  1224221485805395968  1224221485805395968   \n",
      "0        False  NaN  1222819465143832577  1222819465143832576   \n",
      "\n",
      "    in_reply_to_screen_name  ...  \\\n",
      "714                    None  ...   \n",
      "713                    None  ...   \n",
      "712                    None  ...   \n",
      "851                    None  ...   \n",
      "711                    None  ...   \n",
      "..                      ...  ...   \n",
      "4                      None  ...   \n",
      "2                      None  ...   \n",
      "1                      None  ...   \n",
      "715                    None  ...   \n",
      "0                      None  ...   \n",
      "\n",
      "                                                  text  truncated  \\\n",
      "714  #BiharFightsCorona  fifth update of the day.3 ...       True   \n",
      "713  Just In\\n4 new cases from Kashmir- 3 from Band...      False   \n",
      "712  Two more positive #COVID19 cases reported in D...       True   \n",
      "851  #COVID19 cases reach 858 in Telangana includin...       True   \n",
      "711  Three more #COVID19 positive cases reported in...       True   \n",
      "..                                                 ...        ...   \n",
      "4    Maharashtra Health Department: A 59-year-old w...       True   \n",
      "2    Public Health Department, Maharashtra: 5 more ...       True   \n",
      "1    Jammu &amp; Kashmir NHM Director Bhupinder Kum...       True   \n",
      "715  Kerala Health Minister KK Shailaja: Third case...      False   \n",
      "0    Update on #Coronavirus incident: A patient has...       True   \n",
      "\n",
      "                                                  user  possibly_sensitive  \\\n",
      "714  {'contributors_enabled': False, 'created_at': ...                 NaN   \n",
      "713  {'contributors_enabled': False, 'created_at': ...                 NaN   \n",
      "712  {'contributors_enabled': False, 'created_at': ...                 0.0   \n",
      "851  {'contributors_enabled': False, 'created_at': ...                 0.0   \n",
      "711  {'contributors_enabled': False, 'created_at': ...                 NaN   \n",
      "..                                                 ...                 ...   \n",
      "4    {'contributors_enabled': False, 'created_at': ...                 0.0   \n",
      "2    {'contributors_enabled': False, 'created_at': ...                 NaN   \n",
      "1    {'contributors_enabled': False, 'created_at': ...                 0.0   \n",
      "715  {'contributors_enabled': False, 'created_at': ...                 0.0   \n",
      "0    {'contributors_enabled': False, 'created_at': ...                 NaN   \n",
      "\n",
      "     possibly_sensitive_appealable quoted_status quoted_status_id  \\\n",
      "714                            NaN           NaN              NaN   \n",
      "713                            NaN           NaN              NaN   \n",
      "712                            0.0           NaN              NaN   \n",
      "851                            0.0           NaN              NaN   \n",
      "711                            NaN           NaN              NaN   \n",
      "..                             ...           ...              ...   \n",
      "4                              0.0           NaN              NaN   \n",
      "2                              NaN           NaN              NaN   \n",
      "1                              0.0           NaN              NaN   \n",
      "715                            0.0           NaN              NaN   \n",
      "0                              NaN           NaN              NaN   \n",
      "\n",
      "     quoted_status_id_str                                  extended_entities  \\\n",
      "714                   NaN                                                NaN   \n",
      "713                   NaN                                                NaN   \n",
      "712                   NaN                                                NaN   \n",
      "851                   NaN                                                NaN   \n",
      "711                   NaN                                                NaN   \n",
      "..                    ...                                                ...   \n",
      "4                     NaN                                                NaN   \n",
      "2                     NaN                                                NaN   \n",
      "1                     NaN                                                NaN   \n",
      "715                   NaN  {'media': [{'display_url': 'pic.twitter.com/g3...   \n",
      "0                     NaN                                                NaN   \n",
      "\n",
      "                         Date  \n",
      "714 2020-04-19 18:19:19+00:00  \n",
      "713 2020-04-19 17:46:32+00:00  \n",
      "712 2020-04-19 16:49:33+00:00  \n",
      "851 2020-04-19 15:59:09+00:00  \n",
      "711 2020-04-19 15:18:01+00:00  \n",
      "..                        ...  \n",
      "4   2020-03-15 08:02:33+00:00  \n",
      "2   2020-03-14 17:39:56+00:00  \n",
      "1   2020-03-13 15:09:52+00:00  \n",
      "715 2020-02-03 06:42:01+00:00  \n",
      "0   2020-01-30 09:50:54+00:00  \n",
      "\n",
      "[867 rows x 30 columns]\n"
     ]
    }
   ],
   "source": [
    "twtdf.sort_values(by=['Date'], inplace=True, ascending=False)\n",
    "print(twtdf)"
   ]
  },
  {
   "cell_type": "code",
   "execution_count": null,
   "metadata": {},
   "outputs": [],
   "source": []
  }
 ],
 "metadata": {
  "kernelspec": {
   "display_name": "Python 3",
   "language": "python",
   "name": "python3"
  },
  "language_info": {
   "codemirror_mode": {
    "name": "ipython",
    "version": 3
   },
   "file_extension": ".py",
   "mimetype": "text/x-python",
   "name": "python",
   "nbconvert_exporter": "python",
   "pygments_lexer": "ipython3",
   "version": "3.7.4"
  }
 },
 "nbformat": 4,
 "nbformat_minor": 2
}
